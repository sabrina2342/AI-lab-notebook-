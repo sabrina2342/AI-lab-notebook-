{
  "nbformat": 4,
  "nbformat_minor": 0,
  "metadata": {
    "colab": {
      "name": "sabrina.ipynb",
      "provenance": [],
      "collapsed_sections": [],
      "authorship_tag": "ABX9TyPOuJIn+K/24IFwH85rpvNY",
      "include_colab_link": true
    },
    "kernelspec": {
      "name": "python3",
      "display_name": "Python 3"
    }
  },
  "cells": [
    {
      "cell_type": "markdown",
      "metadata": {
        "id": "view-in-github",
        "colab_type": "text"
      },
      "source": [
        "<a href=\"https://colab.research.google.com/github/sabrina2342/AI-lab-notebook-/blob/main/sabrina.ipynb\" target=\"_parent\"><img src=\"https://colab.research.google.com/assets/colab-badge.svg\" alt=\"Open In Colab\"/></a>"
      ]
    },
    {
      "cell_type": "markdown",
      "metadata": {
        "id": "Qh45QlP9zZoh"
      },
      "source": [
        "# **NOTEBOOK-2**"
      ]
    },
    {
      "cell_type": "markdown",
      "metadata": {
        "id": "Axn1wrgVzMru"
      },
      "source": [
        "/ IF statement /"
      ]
    },
    {
      "cell_type": "code",
      "metadata": {
        "colab": {
          "base_uri": "https://localhost:8080/"
        },
        "id": "ZvGOGOZUzXDM",
        "outputId": "2def0fba-ee00-4553-c8c3-e718ce4339d9"
      },
      "source": [
        "grade = 85\r\n",
        "if grade >= 60:\r\n",
        "    print(\"passed\")\r\n"
      ],
      "execution_count": 5,
      "outputs": [
        {
          "output_type": "stream",
          "text": [
            "passed\n"
          ],
          "name": "stdout"
        }
      ]
    },
    {
      "cell_type": "markdown",
      "metadata": {
        "id": "RoGCbWHk0ncg"
      },
      "source": [
        "/ if else statement /"
      ]
    },
    {
      "cell_type": "code",
      "metadata": {
        "colab": {
          "base_uri": "https://localhost:8080/"
        },
        "id": "GDNYdK1g0qsJ",
        "outputId": "cd937f22-8bf9-417e-a38c-fe3f45e0d6df"
      },
      "source": [
        "grade =85\r\n",
        "if grade>=60:\r\n",
        "   print(\"passed\")\r\n",
        "else:\r\n",
        "   print(\"fail\")\r\n"
      ],
      "execution_count": 6,
      "outputs": [
        {
          "output_type": "stream",
          "text": [
            "passed\n"
          ],
          "name": "stdout"
        }
      ]
    },
    {
      "cell_type": "code",
      "metadata": {
        "colab": {
          "base_uri": "https://localhost:8080/"
        },
        "id": "OT9-t50505jZ",
        "outputId": "7abaf944-cae0-4da8-a0dc-8947e5a0ec30"
      },
      "source": [
        "result = ('Passed' if grade >= 60 else 'Failed') \r\n",
        "print(result)"
      ],
      "execution_count": 8,
      "outputs": [
        {
          "output_type": "stream",
          "text": [
            "Passed\n"
          ],
          "name": "stdout"
        }
      ]
    },
    {
      "cell_type": "markdown",
      "metadata": {
        "id": "el0UdSXO1Iv_"
      },
      "source": [
        "/ F...elif....else statemen /"
      ]
    },
    {
      "cell_type": "code",
      "metadata": {
        "colab": {
          "base_uri": "https://localhost:8080/"
        },
        "id": "78uMhdYT1Kte",
        "outputId": "ff8e098b-e935-4384-cf6a-3e32872725b5"
      },
      "source": [
        "grade = 77\r\n",
        "\r\n",
        "if grade >= 90: \r\n",
        "  print('A')\r\n",
        "elif grade >= 80: \r\n",
        "  print('B')\r\n",
        "elif grade >= 70: \r\n",
        "  print('C')\r\n",
        "elif grade >= 60: \r\n",
        "  print('D')\r\n",
        "else:\r\n",
        "  print('F')\r\n"
      ],
      "execution_count": 10,
      "outputs": [
        {
          "output_type": "stream",
          "text": [
            "C\n"
          ],
          "name": "stdout"
        }
      ]
    },
    {
      "cell_type": "markdown",
      "metadata": {
        "id": "BAGKpHDC1eik"
      },
      "source": [
        "/ While Statement /"
      ]
    },
    {
      "cell_type": "code",
      "metadata": {
        "colab": {
          "base_uri": "https://localhost:8080/"
        },
        "id": "zGlaw2tk1gCh",
        "outputId": "dfac569e-64c0-4b25-d334-aecaa1e6be64"
      },
      "source": [
        "number = 1\r\n",
        "while (number<10):\r\n",
        "    print(number, end=\" \") \r\n",
        "    number+=1\r\n"
      ],
      "execution_count": 13,
      "outputs": [
        {
          "output_type": "stream",
          "text": [
            "1 2 3 4 5 6 7 8 9 "
          ],
          "name": "stdout"
        }
      ]
    },
    {
      "cell_type": "code",
      "metadata": {
        "colab": {
          "base_uri": "https://localhost:8080/"
        },
        "id": "orBbSV_J1zEw",
        "outputId": "ce7a8706-76d8-4bdb-dfa8-5b5217beb7b6"
      },
      "source": [
        "product = 3\r\n",
        "while product<=50: \r\n",
        "  product = product*3\r\n",
        "  print(product)"
      ],
      "execution_count": 14,
      "outputs": [
        {
          "output_type": "stream",
          "text": [
            "9\n",
            "27\n",
            "81\n"
          ],
          "name": "stdout"
        }
      ]
    },
    {
      "cell_type": "markdown",
      "metadata": {
        "id": "df5jah5_2AfJ"
      },
      "source": [
        "/ For statement /"
      ]
    },
    {
      "cell_type": "code",
      "metadata": {
        "colab": {
          "base_uri": "https://localhost:8080/"
        },
        "id": "HcLAGWxc2CA7",
        "outputId": "c431c56d-1ecb-45aa-d7e2-cc13ed3fc6fe"
      },
      "source": [
        "for character in \"programming\": \r\n",
        "  print(character, end=\" \")"
      ],
      "execution_count": 15,
      "outputs": [
        {
          "output_type": "stream",
          "text": [
            "p r o g r a m m i n g "
          ],
          "name": "stdout"
        }
      ]
    },
    {
      "cell_type": "code",
      "metadata": {
        "colab": {
          "base_uri": "https://localhost:8080/"
        },
        "id": "MMZ0otjy2NCs",
        "outputId": "5a339897-7311-4ea5-919a-8038d32eea96"
      },
      "source": [
        "for counter in range(10): \r\n",
        "  print(counter, end=\" \")"
      ],
      "execution_count": 16,
      "outputs": [
        {
          "output_type": "stream",
          "text": [
            "0 1 2 3 4 5 6 7 8 9 "
          ],
          "name": "stdout"
        }
      ]
    },
    {
      "cell_type": "code",
      "metadata": {
        "colab": {
          "base_uri": "https://localhost:8080/"
        },
        "id": "AUOjRXqC2UM1",
        "outputId": "4216e72b-d9e0-4476-ddde-f7d1432a3cdd"
      },
      "source": [
        "total = 0\r\n",
        "for number in range(5): \r\n",
        "  total = total+number\r\n",
        "  print(total)\r\n"
      ],
      "execution_count": 20,
      "outputs": [
        {
          "output_type": "stream",
          "text": [
            "0\n",
            "1\n",
            "3\n",
            "6\n",
            "10\n"
          ],
          "name": "stdout"
        }
      ]
    },
    {
      "cell_type": "code",
      "metadata": {
        "colab": {
          "base_uri": "https://localhost:8080/"
        },
        "id": "H8s1Xz6i2wNS",
        "outputId": "8ba1c882-beed-49b7-8549-a53c5aa300b6"
      },
      "source": [
        "for number in range(5,10): \r\n",
        "  print(number, end=\" \")"
      ],
      "execution_count": 21,
      "outputs": [
        {
          "output_type": "stream",
          "text": [
            "5 6 7 8 9 "
          ],
          "name": "stdout"
        }
      ]
    },
    {
      "cell_type": "code",
      "metadata": {
        "colab": {
          "base_uri": "https://localhost:8080/"
        },
        "id": "wwhX91jM20mj",
        "outputId": "729a63e9-8dfd-442f-f15d-f57fe979e129"
      },
      "source": [
        "for number in range(0,10,2): \r\n",
        "  print(number, end=\" \")"
      ],
      "execution_count": 23,
      "outputs": [
        {
          "output_type": "stream",
          "text": [
            "0 2 4 6 8 "
          ],
          "name": "stdout"
        }
      ]
    },
    {
      "cell_type": "code",
      "metadata": {
        "colab": {
          "base_uri": "https://localhost:8080/"
        },
        "id": "oGOl2JHR3Ar3",
        "outputId": "f2b085fc-37a3-4529-eb5d-9e7f2ab58c90"
      },
      "source": [
        "for number in range(10,0,-2): \r\n",
        "  print(number, end=\" \")"
      ],
      "execution_count": 24,
      "outputs": [
        {
          "output_type": "stream",
          "text": [
            "10 8 6 4 2 "
          ],
          "name": "stdout"
        }
      ]
    },
    {
      "cell_type": "code",
      "metadata": {
        "colab": {
          "base_uri": "https://localhost:8080/"
        },
        "id": "kVLh5QqE3SkX",
        "outputId": "39290c5d-faa1-4239-a033-40e99fa9baad"
      },
      "source": [
        "number =\tint(input())"
      ],
      "execution_count": 25,
      "outputs": [
        {
          "output_type": "stream",
          "text": [
            "6563\n"
          ],
          "name": "stdout"
        }
      ]
    },
    {
      "cell_type": "code",
      "metadata": {
        "colab": {
          "base_uri": "https://localhost:8080/"
        },
        "id": "4OJ-nyNj3aFI",
        "outputId": "579c2a50-3097-4ba3-e10c-5fcd76b128c6"
      },
      "source": [
        "for i in range(1,11): \r\n",
        "  print(number,\"X\",i,\"=\",number*i)"
      ],
      "execution_count": 26,
      "outputs": [
        {
          "output_type": "stream",
          "text": [
            "6563 X 1 = 6563\n",
            "6563 X 2 = 13126\n",
            "6563 X 3 = 19689\n",
            "6563 X 4 = 26252\n",
            "6563 X 5 = 32815\n",
            "6563 X 6 = 39378\n",
            "6563 X 7 = 45941\n",
            "6563 X 8 = 52504\n",
            "6563 X 9 = 59067\n",
            "6563 X 10 = 65630\n"
          ],
          "name": "stdout"
        }
      ]
    },
    {
      "cell_type": "code",
      "metadata": {
        "colab": {
          "base_uri": "https://localhost:8080/"
        },
        "id": "OE0VuUko3hQs",
        "outputId": "a8895eac-fd0e-4d4c-8b4d-b98b6c82fb46"
      },
      "source": [
        "for left in range(7):\r\n",
        "  for right in range(left,7): \r\n",
        "     print(\"[\"+str(left)+\"|\"+str(right)+\"]\", end =\" \")\r\n",
        "     print()\r\n"
      ],
      "execution_count": 29,
      "outputs": [
        {
          "output_type": "stream",
          "text": [
            "[0|0] \n",
            "[0|1] \n",
            "[0|2] \n",
            "[0|3] \n",
            "[0|4] \n",
            "[0|5] \n",
            "[0|6] \n",
            "[1|1] \n",
            "[1|2] \n",
            "[1|3] \n",
            "[1|4] \n",
            "[1|5] \n",
            "[1|6] \n",
            "[2|2] \n",
            "[2|3] \n",
            "[2|4] \n",
            "[2|5] \n",
            "[2|6] \n",
            "[3|3] \n",
            "[3|4] \n",
            "[3|5] \n",
            "[3|6] \n",
            "[4|4] \n",
            "[4|5] \n",
            "[4|6] \n",
            "[5|5] \n",
            "[5|6] \n",
            "[6|6] \n"
          ],
          "name": "stdout"
        }
      ]
    },
    {
      "cell_type": "code",
      "metadata": {
        "colab": {
          "base_uri": "https://localhost:8080/"
        },
        "id": "Kydgh36C33fY",
        "outputId": "0c92ca8a-630c-4d16-98a6-ebdb09c18bbe"
      },
      "source": [
        "for number in range(10): \r\n",
        "  if\tnumber==5:\r\n",
        "     break\r\n",
        "  print(number, end=\" \")\r\n"
      ],
      "execution_count": 30,
      "outputs": [
        {
          "output_type": "stream",
          "text": [
            "0 1 2 3 4 "
          ],
          "name": "stdout"
        }
      ]
    }
  ]
}