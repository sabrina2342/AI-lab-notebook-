{
  "nbformat": 4,
  "nbformat_minor": 0,
  "metadata": {
    "colab": {
      "name": "Sabrina.ipynb",
      "provenance": [],
      "collapsed_sections": [],
      "authorship_tag": "ABX9TyPlCuvWJEU3NiNrX1R70XpM",
      "include_colab_link": true
    },
    "kernelspec": {
      "name": "python3",
      "display_name": "Python 3"
    }
  },
  "cells": [
    {
      "cell_type": "markdown",
      "metadata": {
        "id": "view-in-github",
        "colab_type": "text"
      },
      "source": [
        "<a href=\"https://colab.research.google.com/github/sabrina2342/AI-lab-notebook-/blob/main/Sabrina.ipynb\" target=\"_parent\"><img src=\"https://colab.research.google.com/assets/colab-badge.svg\" alt=\"Open In Colab\"/></a>"
      ]
    },
    {
      "cell_type": "markdown",
      "metadata": {
        "id": "pQMCx8nO5qhj"
      },
      "source": [
        "# **NOTEBOOK-3**"
      ]
    },
    {
      "cell_type": "markdown",
      "metadata": {
        "id": "4M7aAkSb5zjU"
      },
      "source": [
        "/ Built-in Function & User Defined Function /"
      ]
    },
    {
      "cell_type": "code",
      "metadata": {
        "colab": {
          "base_uri": "https://localhost:8080/"
        },
        "id": "NJeLOJC251eO",
        "outputId": "2d7dd665-076a-4d0f-acb0-c950ac44ce27"
      },
      "source": [
        "print(\"Hi, I am semi-colon. Do you miss me?\")\r\n",
        "input(\"Let me know if you miss me or not\")\r\n",
        "a=10\r\n",
        "b=21\r\n",
        "print(max(a,b))\r\n",
        "print(min(a,b))\r\n",
        "c=10.3\r\n",
        "d=int(c)\r\n",
        "print(d)\r\n",
        "e=\"Python\"\r\n",
        "print(type(e))"
      ],
      "execution_count": null,
      "outputs": [
        {
          "output_type": "stream",
          "text": [
            "Hi, I am semi-colon. Do you miss me?\n",
            "Let me know if you miss me or notyes\n",
            "21\n",
            "10\n",
            "10\n",
            "<class 'str'>\n"
          ],
          "name": "stdout"
        }
      ]
    },
    {
      "cell_type": "code",
      "metadata": {
        "colab": {
          "base_uri": "https://localhost:8080/"
        },
        "id": "58hV7oLT8CGy",
        "outputId": "486b2e7e-5be5-475a-a3d2-c567466efa0c"
      },
      "source": [
        "def sum(a,b):\r\n",
        "    c=a+b\r\n",
        "    return c\r\n",
        "a=int(input(\"Enter first num: \"))\r\n",
        "a=int(input(\"Enter second num: \"))\r\n",
        "d=sum(a,b)\r\n",
        "print(\"The sum is\", d)"
      ],
      "execution_count": null,
      "outputs": [
        {
          "output_type": "stream",
          "text": [
            "Enter first num: 6733\n",
            "Enter second num: 8754\n",
            "The sum is 8775\n"
          ],
          "name": "stdout"
        }
      ]
    },
    {
      "cell_type": "markdown",
      "metadata": {
        "id": "r8KXetzq89xW"
      },
      "source": [
        "/ Function with Different Parameters /"
      ]
    },
    {
      "cell_type": "code",
      "metadata": {
        "colab": {
          "base_uri": "https://localhost:8080/"
        },
        "id": "ZEGqd2VZ9DEz",
        "outputId": "54967e10-02c7-4f3a-f855-4e4457a801d5"
      },
      "source": [
        "def divisor(x,y,m):\r\n",
        "  if x%m==0 and y%m==0:\r\n",
        "    print(\"%d & %d are divisible by %d\"%(x,y,m))\r\n",
        "  elif x%m==0:\r\n",
        "    print(\"Only %d is divisible by %d\"%(x,m))\r\n",
        "  elif y%m==0:\r\n",
        "    print(\"Only %d is divisible by %d\"%(y,m))\r\n",
        "  else:\r\n",
        "    print(\"None of %d |& %d is divisible by %d\"%(x,y,d))\r\n",
        "\r\n",
        "divisor(10,20,5)\r\n",
        "divisor(12,220,45)\r\n",
        "divisor(13,80,51)\r\n",
        "divisor(110,20,15)"
      ],
      "execution_count": null,
      "outputs": [
        {
          "output_type": "stream",
          "text": [
            "10 & 20 are divisible by 5\n",
            "None of 12 |& 220 is divisible by 8775\n",
            "None of 13 |& 80 is divisible by 8775\n",
            "None of 110 |& 20 is divisible by 8775\n"
          ],
          "name": "stdout"
        }
      ]
    },
    {
      "cell_type": "code",
      "metadata": {
        "colab": {
          "base_uri": "https://localhost:8080/"
        },
        "id": "CKoLbQCc_Wza",
        "outputId": "62121697-9a33-4d1b-bc86-92440c867589"
      },
      "source": [
        "def sum():\r\n",
        "  a=3+8\r\n",
        "  return a\r\n",
        "b=sum()\r\n",
        "print(b)"
      ],
      "execution_count": null,
      "outputs": [
        {
          "output_type": "stream",
          "text": [
            "11\n"
          ],
          "name": "stdout"
        }
      ]
    },
    {
      "cell_type": "markdown",
      "metadata": {
        "id": "TlbkjmjR_173"
      },
      "source": [
        "/ Function with Different Parameters /"
      ]
    },
    {
      "cell_type": "code",
      "metadata": {
        "colab": {
          "base_uri": "https://localhost:8080/"
        },
        "id": "fMljTWpZ_3y5",
        "outputId": "3ce0f6d2-9ee3-4187-89d4-bd5664b56d99"
      },
      "source": [
        "def check(a=0):\r\n",
        "    if a==0:\r\n",
        "       print(\"Zero\")\r\n",
        "    elif a>0:\r\n",
        "       print(\"Positive\") \r\n",
        "    else:\r\n",
        "       print(\"Negative\") \r\n",
        "\r\n",
        "check()\r\n",
        "check(-4)"
      ],
      "execution_count": null,
      "outputs": [
        {
          "output_type": "stream",
          "text": [
            "Zero\n",
            "Negative\n"
          ],
          "name": "stdout"
        }
      ]
    },
    {
      "cell_type": "markdown",
      "metadata": {
        "id": "zWwZeqkECOX6"
      },
      "source": [
        "/ Local Scope /"
      ]
    },
    {
      "cell_type": "code",
      "metadata": {
        "colab": {
          "base_uri": "https://localhost:8080/",
          "height": 218
        },
        "id": "4tCvEIr2CQGP",
        "outputId": "773c5799-e24f-4c62-b6e9-fa5484eb1b79"
      },
      "source": [
        "def local_scope():\r\n",
        "    x=7\r\n",
        "    print(x)\r\n",
        "local_scope()\r\n",
        "print(x)"
      ],
      "execution_count": null,
      "outputs": [
        {
          "output_type": "stream",
          "text": [
            "7\n"
          ],
          "name": "stdout"
        },
        {
          "output_type": "error",
          "ename": "NameError",
          "evalue": "ignored",
          "traceback": [
            "\u001b[0;31m---------------------------------------------------------------------------\u001b[0m",
            "\u001b[0;31mNameError\u001b[0m                                 Traceback (most recent call last)",
            "\u001b[0;32m<ipython-input-16-55713a9de041>\u001b[0m in \u001b[0;36m<module>\u001b[0;34m()\u001b[0m\n\u001b[1;32m      3\u001b[0m     \u001b[0mprint\u001b[0m\u001b[0;34m(\u001b[0m\u001b[0mx\u001b[0m\u001b[0;34m)\u001b[0m\u001b[0;34m\u001b[0m\u001b[0;34m\u001b[0m\u001b[0m\n\u001b[1;32m      4\u001b[0m \u001b[0mlocal_scope\u001b[0m\u001b[0;34m(\u001b[0m\u001b[0;34m)\u001b[0m\u001b[0;34m\u001b[0m\u001b[0;34m\u001b[0m\u001b[0m\n\u001b[0;32m----> 5\u001b[0;31m \u001b[0mprint\u001b[0m\u001b[0;34m(\u001b[0m\u001b[0mx\u001b[0m\u001b[0;34m)\u001b[0m\u001b[0;34m\u001b[0m\u001b[0;34m\u001b[0m\u001b[0m\n\u001b[0m",
            "\u001b[0;31mNameError\u001b[0m: name 'x' is not defined"
          ]
        }
      ]
    },
    {
      "cell_type": "code",
      "metadata": {
        "colab": {
          "base_uri": "https://localhost:8080/",
          "height": 218
        },
        "id": "3jHdrd6iCzR4",
        "outputId": "71a00f32-94ef-48b4-bcac-5ec14a7f7ae3"
      },
      "source": [
        "def local_scope():\r\n",
        "    x=7\r\n",
        "    return x\r\n",
        "a=local_scope()\r\n",
        "print(a)\r\n",
        "print(x)"
      ],
      "execution_count": null,
      "outputs": [
        {
          "output_type": "stream",
          "text": [
            "7\n"
          ],
          "name": "stdout"
        },
        {
          "output_type": "error",
          "ename": "NameError",
          "evalue": "ignored",
          "traceback": [
            "\u001b[0;31m---------------------------------------------------------------------------\u001b[0m",
            "\u001b[0;31mNameError\u001b[0m                                 Traceback (most recent call last)",
            "\u001b[0;32m<ipython-input-17-247b079cae18>\u001b[0m in \u001b[0;36m<module>\u001b[0;34m()\u001b[0m\n\u001b[1;32m      4\u001b[0m \u001b[0ma\u001b[0m\u001b[0;34m=\u001b[0m\u001b[0mlocal_scope\u001b[0m\u001b[0;34m(\u001b[0m\u001b[0;34m)\u001b[0m\u001b[0;34m\u001b[0m\u001b[0;34m\u001b[0m\u001b[0m\n\u001b[1;32m      5\u001b[0m \u001b[0mprint\u001b[0m\u001b[0;34m(\u001b[0m\u001b[0ma\u001b[0m\u001b[0;34m)\u001b[0m\u001b[0;34m\u001b[0m\u001b[0;34m\u001b[0m\u001b[0m\n\u001b[0;32m----> 6\u001b[0;31m \u001b[0mprint\u001b[0m\u001b[0;34m(\u001b[0m\u001b[0mx\u001b[0m\u001b[0;34m)\u001b[0m\u001b[0;34m\u001b[0m\u001b[0;34m\u001b[0m\u001b[0m\n\u001b[0m",
            "\u001b[0;31mNameError\u001b[0m: name 'x' is not defined"
          ]
        }
      ]
    },
    {
      "cell_type": "markdown",
      "metadata": {
        "id": "2GJM4E5jDSRz"
      },
      "source": [
        "/ Global Scope /"
      ]
    },
    {
      "cell_type": "code",
      "metadata": {
        "colab": {
          "base_uri": "https://localhost:8080/"
        },
        "id": "IMFSBf6KDmCX",
        "outputId": "ac2177d2-1128-4216-f738-142746c3f048"
      },
      "source": [
        "x=10\r\n",
        "def global_scope():\r\n",
        "    print(x)\r\n",
        "print(x)\r\n",
        "global_scope()"
      ],
      "execution_count": null,
      "outputs": [
        {
          "output_type": "stream",
          "text": [
            "10\n",
            "10\n"
          ],
          "name": "stdout"
        }
      ]
    },
    {
      "cell_type": "code",
      "metadata": {
        "colab": {
          "base_uri": "https://localhost:8080/"
        },
        "id": "P5aealmwELs4",
        "outputId": "08acfe23-4bc0-4545-84c6-6c297ddd0d94"
      },
      "source": [
        "x=10\r\n",
        "def global_scope():\r\n",
        "    global x\r\n",
        "    x=10\r\n",
        "global_scope()\r\n",
        "print(x)"
      ],
      "execution_count": null,
      "outputs": [
        {
          "output_type": "stream",
          "text": [
            "10\n"
          ],
          "name": "stdout"
        }
      ]
    },
    {
      "cell_type": "markdown",
      "metadata": {
        "id": "EzN-EABDElSK"
      },
      "source": [
        "/ Python Standard Library /"
      ]
    },
    {
      "cell_type": "code",
      "metadata": {
        "colab": {
          "base_uri": "https://localhost:8080/"
        },
        "id": "4f03BNIxVFcD",
        "outputId": "2f4cb718-f306-42da-bf30-1ab52ee760a5"
      },
      "source": [
        "import math\r\n",
        "print(math.pi)\r\n",
        "x=9.2\r\n",
        "print(math.ceil(x))\r\n",
        "print(math.floor(x))\r\n",
        "print(math.sin(78))\r\n",
        "print(math.pow(2,3))\r\n",
        "print(math.sqrt(16))"
      ],
      "execution_count": null,
      "outputs": [
        {
          "output_type": "stream",
          "text": [
            "3.141592653589793\n",
            "10\n",
            "9\n",
            "0.5139784559875352\n",
            "8.0\n",
            "4.0\n"
          ],
          "name": "stdout"
        }
      ]
    },
    {
      "cell_type": "code",
      "metadata": {
        "colab": {
          "base_uri": "https://localhost:8080/"
        },
        "id": "IUTFRy2gvK8f",
        "outputId": "808bfd04-7882-482f-c6cb-da6b25b3d913"
      },
      "source": [
        "from google.colab import drive\r\n",
        "drive.mount('/content/drive')"
      ],
      "execution_count": null,
      "outputs": [
        {
          "output_type": "stream",
          "text": [
            "Mounted at /content/drive\n"
          ],
          "name": "stdout"
        }
      ]
    },
    {
      "cell_type": "code",
      "metadata": {
        "colab": {
          "base_uri": "https://localhost:8080/"
        },
        "id": "tHJOszpDxEzZ",
        "outputId": "0634d03e-6f43-4459-cede-c345d8580544"
      },
      "source": [
        "import pandas as pd\r\n",
        "path=\"/content/drive/MyDrive/test.csv\"\r\n",
        "df = pd.read_csv(path)\r\n",
        "df.describe"
      ],
      "execution_count": null,
      "outputs": [
        {
          "output_type": "execute_result",
          "data": {
            "text/plain": [
              "<bound method NDFrame.describe of      Name  Popularity(out of 10)\n",
              "0  Python                      9\n",
              "1       C                      6\n",
              "2     C++                      8\n",
              "3    Java                      7\n",
              "4  Prolog                      3>"
            ]
          },
          "metadata": {
            "tags": []
          },
          "execution_count": 3
        }
      ]
    }
  ]
}