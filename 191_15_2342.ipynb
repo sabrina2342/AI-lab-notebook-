{
  "nbformat": 4,
  "nbformat_minor": 0,
  "metadata": {
    "colab": {
      "name": "191-15-2342.ipynb",
      "provenance": [],
      "collapsed_sections": [],
      "authorship_tag": "ABX9TyMeE5nV2rsZiW4K7aTl9aaN",
      "include_colab_link": true
    },
    "kernelspec": {
      "name": "python3",
      "display_name": "Python 3"
    }
  },
  "cells": [
    {
      "cell_type": "markdown",
      "metadata": {
        "id": "view-in-github",
        "colab_type": "text"
      },
      "source": [
        "<a href=\"https://colab.research.google.com/github/sabrina2342/AI-lab-notebook-/blob/main/191_15_2342.ipynb\" target=\"_parent\"><img src=\"https://colab.research.google.com/assets/colab-badge.svg\" alt=\"Open In Colab\"/></a>"
      ]
    },
    {
      "cell_type": "markdown",
      "metadata": {
        "id": "NuAqomm4NKUa"
      },
      "source": [
        "## **NOTEBOOK-1**"
      ]
    },
    {
      "cell_type": "markdown",
      "metadata": {
        "id": "JJlSxBwRTxY_"
      },
      "source": [
        "/ Hello World /\r\n"
      ]
    },
    {
      "cell_type": "code",
      "metadata": {
        "colab": {
          "base_uri": "https://localhost:8080/"
        },
        "id": "meojMGT3NOQA",
        "outputId": "acc891a6-e6f4-4b6d-ae6e-3f37d8df882e"
      },
      "source": [
        "print(\"Hello World\")"
      ],
      "execution_count": null,
      "outputs": [
        {
          "output_type": "stream",
          "text": [
            "Hello World\n"
          ],
          "name": "stdout"
        }
      ]
    },
    {
      "cell_type": "markdown",
      "metadata": {
        "id": "MLtJuFNNUKKC"
      },
      "source": [
        "/ Variables and Assignment /"
      ]
    },
    {
      "cell_type": "code",
      "metadata": {
        "colab": {
          "base_uri": "https://localhost:8080/"
        },
        "id": "NbvjxnmqNhnz",
        "outputId": "20370709-c381-407d-b681-fe650fe0777b"
      },
      "source": [
        "x=7 \r\n",
        "y=3\r\n",
        "print(x+y)\r\n"
      ],
      "execution_count": null,
      "outputs": [
        {
          "output_type": "stream",
          "text": [
            "10\n"
          ],
          "name": "stdout"
        }
      ]
    },
    {
      "cell_type": "code",
      "metadata": {
        "colab": {
          "base_uri": "https://localhost:8080/"
        },
        "id": "X7NNDAXhNmCW",
        "outputId": "6d9806ad-20e3-4a49-cfbf-735ad1887d71"
      },
      "source": [
        "total = x+y \r\n",
        "print(total)"
      ],
      "execution_count": null,
      "outputs": [
        {
          "output_type": "stream",
          "text": [
            "10\n"
          ],
          "name": "stdout"
        }
      ]
    },
    {
      "cell_type": "code",
      "metadata": {
        "colab": {
          "base_uri": "https://localhost:8080/"
        },
        "id": "4m542Z2RQqyi",
        "outputId": "80af4f57-d1a4-4d31-a1b0-a4c4f71c74d9"
      },
      "source": [
        "name = \"Sabrina\"\r\n",
        "name2 = \"Saba\"\r\n",
        "print(name,name2)\r\n"
      ],
      "execution_count": null,
      "outputs": [
        {
          "output_type": "stream",
          "text": [
            "Sabrina Saba\n"
          ],
          "name": "stdout"
        }
      ]
    },
    {
      "cell_type": "markdown",
      "metadata": {
        "id": "pV5jQXbuVPxe"
      },
      "source": [
        "/ Type /"
      ]
    },
    {
      "cell_type": "code",
      "metadata": {
        "colab": {
          "base_uri": "https://localhost:8080/"
        },
        "id": "wwMK6fbaRKB2",
        "outputId": "befeac1a-ed0a-47dc-d379-0165efe96833"
      },
      "source": [
        "x =10\r\n",
        "type(x)"
      ],
      "execution_count": null,
      "outputs": [
        {
          "output_type": "execute_result",
          "data": {
            "text/plain": [
              "int"
            ]
          },
          "metadata": {
            "tags": []
          },
          "execution_count": 10
        }
      ]
    },
    {
      "cell_type": "code",
      "metadata": {
        "colab": {
          "base_uri": "https://localhost:8080/"
        },
        "id": "RifsrFy3RQql",
        "outputId": "14a1e33b-fa60-4021-ef05-9f721e2a0eed"
      },
      "source": [
        "type(10.5)"
      ],
      "execution_count": null,
      "outputs": [
        {
          "output_type": "execute_result",
          "data": {
            "text/plain": [
              "float"
            ]
          },
          "metadata": {
            "tags": []
          },
          "execution_count": 11
        }
      ]
    },
    {
      "cell_type": "code",
      "metadata": {
        "colab": {
          "base_uri": "https://localhost:8080/"
        },
        "id": "QG5K5G73RU7B",
        "outputId": "8b45f6d0-9a79-40af-b645-fd57169b0655"
      },
      "source": [
        "type(name)\r\n"
      ],
      "execution_count": null,
      "outputs": [
        {
          "output_type": "execute_result",
          "data": {
            "text/plain": [
              "str"
            ]
          },
          "metadata": {
            "tags": []
          },
          "execution_count": 12
        }
      ]
    },
    {
      "cell_type": "markdown",
      "metadata": {
        "id": "FBj4tfrJVgCh"
      },
      "source": [
        "/ Arithmetic operators /"
      ]
    },
    {
      "cell_type": "code",
      "metadata": {
        "colab": {
          "base_uri": "https://localhost:8080/"
        },
        "id": "4d0f1kxORZzz",
        "outputId": "ed3c612e-9f94-4e3b-fea6-87da0af63847"
      },
      "source": [
        "multiplication = 7*4 \r\n",
        "print(multiplication)"
      ],
      "execution_count": null,
      "outputs": [
        {
          "output_type": "stream",
          "text": [
            "28\n"
          ],
          "name": "stdout"
        }
      ]
    },
    {
      "cell_type": "code",
      "metadata": {
        "colab": {
          "base_uri": "https://localhost:8080/"
        },
        "id": "lC6pn3LGRdpb",
        "outputId": "01269b02-19fe-4a51-c5a3-15fb2dd2c815"
      },
      "source": [
        "add = 10+15 \r\n",
        "print(add)\r\n"
      ],
      "execution_count": null,
      "outputs": [
        {
          "output_type": "stream",
          "text": [
            "25\n"
          ],
          "name": "stdout"
        }
      ]
    },
    {
      "cell_type": "code",
      "metadata": {
        "colab": {
          "base_uri": "https://localhost:8080/"
        },
        "id": "FTwbCQXRRl77",
        "outputId": "aee984fc-2607-40cf-94e8-3ddac00c098a"
      },
      "source": [
        "sub = 40-8\r\n",
        "print(sub)"
      ],
      "execution_count": null,
      "outputs": [
        {
          "output_type": "stream",
          "text": [
            "32\n"
          ],
          "name": "stdout"
        }
      ]
    },
    {
      "cell_type": "code",
      "metadata": {
        "colab": {
          "base_uri": "https://localhost:8080/"
        },
        "id": "D0woqFdVRsxz",
        "outputId": "6fc5bce2-a9f2-4df9-96cd-4e204dfc05dd"
      },
      "source": [
        "Exponentiation = 2**10\r\n",
        "print(Exponentiation)"
      ],
      "execution_count": null,
      "outputs": [
        {
          "output_type": "stream",
          "text": [
            "1024\n"
          ],
          "name": "stdout"
        }
      ]
    },
    {
      "cell_type": "code",
      "metadata": {
        "colab": {
          "base_uri": "https://localhost:8080/"
        },
        "id": "BOCZ00PhRwiC",
        "outputId": "330b7004-4998-45fb-c1ae-c9842edba450"
      },
      "source": [
        "remainder = 15%7\r\n",
        "print(remainder)"
      ],
      "execution_count": null,
      "outputs": [
        {
          "output_type": "stream",
          "text": [
            "1\n"
          ],
          "name": "stdout"
        }
      ]
    },
    {
      "cell_type": "code",
      "metadata": {
        "colab": {
          "base_uri": "https://localhost:8080/"
        },
        "id": "3Si8FUIUS5yX",
        "outputId": "4a3c3db5-3669-4f8f-8fc4-c635285ca01a"
      },
      "source": [
        "x = 105\r\n",
        "y = 100\r\n",
        "x>y"
      ],
      "execution_count": null,
      "outputs": [
        {
          "output_type": "execute_result",
          "data": {
            "text/plain": [
              "True"
            ]
          },
          "metadata": {
            "tags": []
          },
          "execution_count": 29
        }
      ]
    },
    {
      "cell_type": "code",
      "metadata": {
        "colab": {
          "base_uri": "https://localhost:8080/"
        },
        "id": "lpReOXFZTA3o",
        "outputId": "138b5e52-e783-4dde-a544-a3c33538d5c9"
      },
      "source": [
        "x<y"
      ],
      "execution_count": null,
      "outputs": [
        {
          "output_type": "execute_result",
          "data": {
            "text/plain": [
              "False"
            ]
          },
          "metadata": {
            "tags": []
          },
          "execution_count": 30
        }
      ]
    },
    {
      "cell_type": "code",
      "metadata": {
        "colab": {
          "base_uri": "https://localhost:8080/"
        },
        "id": "F_2lDvluTFGM",
        "outputId": "6a9557f8-db30-4eec-c1b9-9b42259c3ce1"
      },
      "source": [
        "x==y\r\n"
      ],
      "execution_count": null,
      "outputs": [
        {
          "output_type": "execute_result",
          "data": {
            "text/plain": [
              "False"
            ]
          },
          "metadata": {
            "tags": []
          },
          "execution_count": 31
        }
      ]
    },
    {
      "cell_type": "code",
      "metadata": {
        "colab": {
          "base_uri": "https://localhost:8080/"
        },
        "id": "NURNhVV4TJqA",
        "outputId": "12168909-1e32-4786-db90-2b35ca73ecaa"
      },
      "source": [
        "x!=y\r\n"
      ],
      "execution_count": null,
      "outputs": [
        {
          "output_type": "execute_result",
          "data": {
            "text/plain": [
              "True"
            ]
          },
          "metadata": {
            "tags": []
          },
          "execution_count": 32
        }
      ]
    },
    {
      "cell_type": "code",
      "metadata": {
        "colab": {
          "base_uri": "https://localhost:8080/"
        },
        "id": "m549r8KOTOeI",
        "outputId": "fc2a97ae-75c5-4c6e-bca3-395d05a7c52d"
      },
      "source": [
        "x>=y\r\n"
      ],
      "execution_count": null,
      "outputs": [
        {
          "output_type": "execute_result",
          "data": {
            "text/plain": [
              "True"
            ]
          },
          "metadata": {
            "tags": []
          },
          "execution_count": 33
        }
      ]
    },
    {
      "cell_type": "code",
      "metadata": {
        "colab": {
          "base_uri": "https://localhost:8080/"
        },
        "id": "bygH5e2tTTIr",
        "outputId": "32baa59e-6b8a-432d-80aa-671e36402fa1"
      },
      "source": [
        "x<=y"
      ],
      "execution_count": null,
      "outputs": [
        {
          "output_type": "execute_result",
          "data": {
            "text/plain": [
              "False"
            ]
          },
          "metadata": {
            "tags": []
          },
          "execution_count": 34
        }
      ]
    },
    {
      "cell_type": "markdown",
      "metadata": {
        "id": "qslScRDtV2oK"
      },
      "source": [
        "/ Chaining Comparisons /\r\n"
      ]
    },
    {
      "cell_type": "code",
      "metadata": {
        "colab": {
          "base_uri": "https://localhost:8080/"
        },
        "id": "h_Vlb8bUTZC5",
        "outputId": "0469c78e-4588-4c15-b047-8ce70389d5fe"
      },
      "source": [
        "x = 3\r\n",
        "y = 10\r\n",
        "1 <= x <= 5"
      ],
      "execution_count": null,
      "outputs": [
        {
          "output_type": "execute_result",
          "data": {
            "text/plain": [
              "True"
            ]
          },
          "metadata": {
            "tags": []
          },
          "execution_count": 37
        }
      ]
    },
    {
      "cell_type": "code",
      "metadata": {
        "colab": {
          "base_uri": "https://localhost:8080/"
        },
        "id": "Fx_5x6q9TjOu",
        "outputId": "4a82f9cd-d9ca-48f4-ce13-bb3b0ea2975f"
      },
      "source": [
        "1 <= y <= 5"
      ],
      "execution_count": null,
      "outputs": [
        {
          "output_type": "execute_result",
          "data": {
            "text/plain": [
              "False"
            ]
          },
          "metadata": {
            "tags": []
          },
          "execution_count": 38
        }
      ]
    },
    {
      "cell_type": "markdown",
      "metadata": {
        "id": "DoNspCD9WBdm"
      },
      "source": [
        "/ Printing a Comma-Separated List of Items /"
      ]
    },
    {
      "cell_type": "code",
      "metadata": {
        "colab": {
          "base_uri": "https://localhost:8080/"
        },
        "id": "02YbV4NDWDPb",
        "outputId": "0f46e94b-e330-443b-97d8-66b59f6d6ff8"
      },
      "source": [
        "print('Welcome', 'to', 'AI')"
      ],
      "execution_count": null,
      "outputs": [
        {
          "output_type": "stream",
          "text": [
            "Welcome to AI\n"
          ],
          "name": "stdout"
        }
      ]
    },
    {
      "cell_type": "markdown",
      "metadata": {
        "id": "0WrB0QgXWSFi"
      },
      "source": [
        "/ Printing Many Lines of Text with One Statement /"
      ]
    },
    {
      "cell_type": "code",
      "metadata": {
        "colab": {
          "base_uri": "https://localhost:8080/"
        },
        "id": "f2NsFI5lWTvj",
        "outputId": "6085d765-f08d-456b-a6c2-e166e5d5e578"
      },
      "source": [
        "print('Welcome\\nto\\nAI!')"
      ],
      "execution_count": null,
      "outputs": [
        {
          "output_type": "stream",
          "text": [
            "Welcome\n",
            "to\n",
            "AI!\n"
          ],
          "name": "stdout"
        }
      ]
    },
    {
      "cell_type": "markdown",
      "metadata": {
        "id": "JKuhkyZfWtnh"
      },
      "source": [
        "/ Ignoring a Line Break in a Long String /"
      ]
    },
    {
      "cell_type": "code",
      "metadata": {
        "id": "q6lEWa94WvW7"
      },
      "source": [
        ""
      ],
      "execution_count": null,
      "outputs": []
    },
    {
      "cell_type": "code",
      "metadata": {
        "colab": {
          "base_uri": "https://localhost:8080/"
        },
        "id": "BLNvnygMWOt5",
        "outputId": "7557da36-f945-4372-c098-7a1dc93dda98"
      },
      "source": [
        "print('this is a longer string, so we \\ split it over two lines')"
      ],
      "execution_count": null,
      "outputs": [
        {
          "output_type": "stream",
          "text": [
            "this is a longer string, so we \\ split it over two lines\n"
          ],
          "name": "stdout"
        }
      ]
    },
    {
      "cell_type": "markdown",
      "metadata": {
        "id": "0f6yuMRCW3Ze"
      },
      "source": [
        "/ Printing the Value of an Expression /"
      ]
    },
    {
      "cell_type": "code",
      "metadata": {
        "colab": {
          "base_uri": "https://localhost:8080/"
        },
        "id": "gEAYd_JXW40q",
        "outputId": "69ea00c1-0063-4765-e794-e1bced5a2e94"
      },
      "source": [
        "print('Sum is', 7 + 3)"
      ],
      "execution_count": null,
      "outputs": [
        {
          "output_type": "stream",
          "text": [
            "Sum is 10\n"
          ],
          "name": "stdout"
        }
      ]
    },
    {
      "cell_type": "markdown",
      "metadata": {
        "id": "eYiDogkOXHyv"
      },
      "source": [
        "/ What does the following print statement display? /"
      ]
    },
    {
      "cell_type": "code",
      "metadata": {
        "colab": {
          "base_uri": "https://localhost:8080/"
        },
        "id": "VnjFreZQXJRD",
        "outputId": "ffa8c329-8539-4823-e299-ab59698ca9ca"
      },
      "source": [
        "print('int(5.2)', 'truncates 5.2 to', int(5.2))"
      ],
      "execution_count": null,
      "outputs": [
        {
          "output_type": "stream",
          "text": [
            "int(5.2) truncates 5.2 to 5\n"
          ],
          "name": "stdout"
        }
      ]
    },
    {
      "cell_type": "markdown",
      "metadata": {
        "id": "WQgxfO7-XRpg"
      },
      "source": [
        "/ Including Quotes in Strings /"
      ]
    },
    {
      "cell_type": "code",
      "metadata": {
        "colab": {
          "base_uri": "https://localhost:8080/"
        },
        "id": "1OtAO5XyXVcn",
        "outputId": "b8311310-4bdc-46cf-c275-46d724bb63a0"
      },
      "source": [
        "print('Display \"hi\" in quotes')"
      ],
      "execution_count": null,
      "outputs": [
        {
          "output_type": "stream",
          "text": [
            "Display \"hi\" in quotes\n"
          ],
          "name": "stdout"
        }
      ]
    },
    {
      "cell_type": "code",
      "metadata": {
        "colab": {
          "base_uri": "https://localhost:8080/"
        },
        "id": "D12BxGcNXvML",
        "outputId": "16097145-984a-4143-8535-369fe661ddee"
      },
      "source": [
        "print('Display \\'hi\\' in quotes')"
      ],
      "execution_count": null,
      "outputs": [
        {
          "output_type": "stream",
          "text": [
            "Display 'hi' in quotes\n"
          ],
          "name": "stdout"
        }
      ]
    },
    {
      "cell_type": "code",
      "metadata": {
        "colab": {
          "base_uri": "https://localhost:8080/"
        },
        "id": "5klLaHK0XyRS",
        "outputId": "154ca29c-1b8f-4836-9bb4-b0c084b31134"
      },
      "source": [
        "print(\"Display the name O'Brien\")"
      ],
      "execution_count": null,
      "outputs": [
        {
          "output_type": "stream",
          "text": [
            "Display the name O'Brien\n"
          ],
          "name": "stdout"
        }
      ]
    },
    {
      "cell_type": "code",
      "metadata": {
        "colab": {
          "base_uri": "https://localhost:8080/"
        },
        "id": "Osdi-5EEX18z",
        "outputId": "9874a7ae-ad1b-4e6b-ebe5-6ab5f22fa57d"
      },
      "source": [
        "print(\"Display \\\"hi\\\" in quotes\")"
      ],
      "execution_count": null,
      "outputs": [
        {
          "output_type": "stream",
          "text": [
            "Display \"hi\" in quotes\n"
          ],
          "name": "stdout"
        }
      ]
    },
    {
      "cell_type": "code",
      "metadata": {
        "colab": {
          "base_uri": "https://localhost:8080/"
        },
        "id": "9PrLTcw1X6uv",
        "outputId": "900ce67c-f38c-431c-a9e6-5a6d986eceff"
      },
      "source": [
        "print(\"\"\"Display \"hi\" and 'bye' in quotes\"\"\")"
      ],
      "execution_count": null,
      "outputs": [
        {
          "output_type": "stream",
          "text": [
            "Display \"hi\" and 'bye' in quotes\n"
          ],
          "name": "stdout"
        }
      ]
    },
    {
      "cell_type": "markdown",
      "metadata": {
        "id": "vxHH0tIcYBnm"
      },
      "source": [
        "/ Multiline Strings /"
      ]
    },
    {
      "cell_type": "code",
      "metadata": {
        "colab": {
          "base_uri": "https://localhost:8080/"
        },
        "id": "JD-rUDicYDI6",
        "outputId": "a85e9372-4de8-4dd8-e929-744193d7d6bc"
      },
      "source": [
        "triple_quoted_string = \"\"\"This is a triple-quoted string that spans two lines\"\"\"\r\n",
        "print(triple_quoted_string)"
      ],
      "execution_count": null,
      "outputs": [
        {
          "output_type": "stream",
          "text": [
            "This is a triple-quoted string that spans two lines\n"
          ],
          "name": "stdout"
        }
      ]
    },
    {
      "cell_type": "code",
      "metadata": {
        "colab": {
          "base_uri": "https://localhost:8080/"
        },
        "id": "111m5yRGYU8S",
        "outputId": "65830349-34e0-4c24-d22a-18c91447eb49"
      },
      "source": [
        "print(\"\"\"This is a lengthy multiline string containing a few lines \\\r\n",
        "of text\"\"\")"
      ],
      "execution_count": null,
      "outputs": [
        {
          "output_type": "stream",
          "text": [
            "This is a lengthy multiline string containing a few lines of text\n"
          ],
          "name": "stdout"
        }
      ]
    },
    {
      "cell_type": "markdown",
      "metadata": {
        "id": "b_fX1Qt3rVLo"
      },
      "source": [
        "/ Precision Handling in Python /"
      ]
    },
    {
      "cell_type": "code",
      "metadata": {
        "colab": {
          "base_uri": "https://localhost:8080/"
        },
        "id": "mkfxS1ZprdYr",
        "outputId": "7604fd33-d8c0-45a6-f679-ddb29ecf5de7"
      },
      "source": [
        "a = 3.4536475856\r\n",
        "print (\"The value of number till 2 decimal place(using %) is : \",end=\"\") \r\n",
        "print ('%.2f' %a)"
      ],
      "execution_count": null,
      "outputs": [
        {
          "output_type": "stream",
          "text": [
            "The value of number till 2 decimal place(using %) is : 3.45\n"
          ],
          "name": "stdout"
        }
      ]
    },
    {
      "cell_type": "code",
      "metadata": {
        "colab": {
          "base_uri": "https://localhost:8080/"
        },
        "id": "4R-dAGbmrzEt",
        "outputId": "0ebc1729-2fb3-43ef-e947-91786daffb73"
      },
      "source": [
        "print (\"The value of number till 2 decimal place(using %) is : \",end=\"\") \r\n",
        "print ('%.4f' %a)"
      ],
      "execution_count": null,
      "outputs": [
        {
          "output_type": "stream",
          "text": [
            "The value of number till 2 decimal place(using %) is : 3.4536\n"
          ],
          "name": "stdout"
        }
      ]
    },
    {
      "cell_type": "markdown",
      "metadata": {
        "id": "SuRDIe8Sr9Co"
      },
      "source": [
        "/ Getting Input from the User /"
      ]
    },
    {
      "cell_type": "code",
      "metadata": {
        "colab": {
          "base_uri": "https://localhost:8080/"
        },
        "id": "qEv6mpiBsnXf",
        "outputId": "7ba3a742-b72c-43e0-a1f0-a9cd9c778529"
      },
      "source": [
        "value1='Sab'\r\n",
        "value2='rina'\r\n",
        "total = value1 + value2 \r\n",
        "print(total)\r\n"
      ],
      "execution_count": null,
      "outputs": [
        {
          "output_type": "stream",
          "text": [
            "Sabrina\n"
          ],
          "name": "stdout"
        }
      ]
    },
    {
      "cell_type": "code",
      "metadata": {
        "colab": {
          "base_uri": "https://localhost:8080/"
        },
        "id": "x3tWR2_wtIYr",
        "outputId": "eb4547df-bf23-470b-941e-c92f538a5010"
      },
      "source": [
        "type(total)"
      ],
      "execution_count": null,
      "outputs": [
        {
          "output_type": "execute_result",
          "data": {
            "text/plain": [
              "str"
            ]
          },
          "metadata": {
            "tags": []
          },
          "execution_count": 75
        }
      ]
    },
    {
      "cell_type": "markdown",
      "metadata": {
        "id": "81XFA5crtttg"
      },
      "source": [
        "/ Getting an Integer from the User by casting the input format /"
      ]
    },
    {
      "cell_type": "code",
      "metadata": {
        "colab": {
          "base_uri": "https://localhost:8080/"
        },
        "id": "HSSyM8hztxj5",
        "outputId": "725638b8-8470-4e3b-9d4b-243a0a29d911"
      },
      "source": [
        "another_value = int(input('Enter another integer: '))"
      ],
      "execution_count": null,
      "outputs": [
        {
          "output_type": "stream",
          "text": [
            "Enter another integer: 20\n"
          ],
          "name": "stdout"
        }
      ]
    },
    {
      "cell_type": "code",
      "metadata": {
        "colab": {
          "base_uri": "https://localhost:8080/"
        },
        "id": "b02EywuluAPo",
        "outputId": "f2b1abb2-18be-480d-bf54-4e079ce15130"
      },
      "source": [
        "print(another_value)"
      ],
      "execution_count": null,
      "outputs": [
        {
          "output_type": "stream",
          "text": [
            "20\n"
          ],
          "name": "stdout"
        }
      ]
    },
    {
      "cell_type": "markdown",
      "metadata": {
        "id": "FYPvD25duEcx"
      },
      "source": [
        "/ Taking multiple input from the user /"
      ]
    },
    {
      "cell_type": "code",
      "metadata": {
        "colab": {
          "base_uri": "https://localhost:8080/"
        },
        "id": "MePsVPYSuGEO",
        "outputId": "2cc9acec-3522-4a7d-b1a5-374e66b320b3"
      },
      "source": [
        "a, b = input().split()"
      ],
      "execution_count": null,
      "outputs": [
        {
          "output_type": "stream",
          "text": [
            "10 30\n"
          ],
          "name": "stdout"
        }
      ]
    },
    {
      "cell_type": "code",
      "metadata": {
        "colab": {
          "base_uri": "https://localhost:8080/"
        },
        "id": "aKcju6kuuQLF",
        "outputId": "c1619f1b-cbf2-44e6-87d3-63fd973f8c2f"
      },
      "source": [
        "print(a , b)"
      ],
      "execution_count": null,
      "outputs": [
        {
          "output_type": "stream",
          "text": [
            "10 30\n"
          ],
          "name": "stdout"
        }
      ]
    },
    {
      "cell_type": "code",
      "metadata": {
        "colab": {
          "base_uri": "https://localhost:8080/"
        },
        "id": "JZMEPBdAudd1",
        "outputId": "36745c92-0775-4a40-ead8-f84a758f6b60"
      },
      "source": [
        "print(type(a))"
      ],
      "execution_count": null,
      "outputs": [
        {
          "output_type": "stream",
          "text": [
            "<class 'str'>\n"
          ],
          "name": "stdout"
        }
      ]
    },
    {
      "cell_type": "code",
      "metadata": {
        "colab": {
          "base_uri": "https://localhost:8080/"
        },
        "id": "8mZIFxosuhxS",
        "outputId": "e4b309ce-f5f7-47ad-fb0e-01cdc9af07d7"
      },
      "source": [
        "number1 = int(input('Enter first integer: ')) \r\n",
        "number2 = int(input('Enter second integer: ')) \r\n",
        "number3 = int(input('Enter third integer: '))"
      ],
      "execution_count": null,
      "outputs": [
        {
          "output_type": "stream",
          "text": [
            "Enter first integer: 10\n",
            "Enter second integer: 20\n",
            "Enter third integer: 30\n"
          ],
          "name": "stdout"
        }
      ]
    },
    {
      "cell_type": "code",
      "metadata": {
        "id": "4KIyWiVVur2L",
        "colab": {
          "base_uri": "https://localhost:8080/"
        },
        "outputId": "b1df65e1-b3ad-4310-867c-ed70adb21778"
      },
      "source": [
        "min(number1,number2,number3)"
      ],
      "execution_count": null,
      "outputs": [
        {
          "output_type": "execute_result",
          "data": {
            "text/plain": [
              "10"
            ]
          },
          "metadata": {
            "tags": []
          },
          "execution_count": 83
        }
      ]
    }
  ]
}